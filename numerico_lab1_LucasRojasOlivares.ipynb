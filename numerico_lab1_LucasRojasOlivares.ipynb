{
  "nbformat": 4,
  "nbformat_minor": 0,
  "metadata": {
    "colab": {
      "provenance": [],
      "history_visible": true,
      "authorship_tag": "ABX9TyNigzHq/BnpxszgIaMQZMVx",
      "include_colab_link": true
    },
    "kernelspec": {
      "name": "python3",
      "display_name": "Python 3"
    },
    "language_info": {
      "name": "python"
    }
  },
  "cells": [
    {
      "cell_type": "markdown",
      "metadata": {
        "id": "view-in-github",
        "colab_type": "text"
      },
      "source": [
        "<a href=\"https://colab.research.google.com/github/Rojas2002lucas/cpython/blob/main/numerico_lab1_LucasRojasOlivares.ipynb\" target=\"_parent\"><img src=\"https://colab.research.google.com/assets/colab-badge.svg\" alt=\"Open In Colab\"/></a>"
      ]
    },
    {
      "cell_type": "code",
      "source": [
        "#aproximacion por metodo de madhava_leibniz\n",
        "def madhava_leibniz(x_):\n",
        "    pi=0.0\n",
        "    for i in range(x_):\n",
        "        pi = pi + ((-1)**i)/(2*i+1)\n",
        "    return 4*pi\n",
        "\n",
        "\n",
        "#aproximacion por metodo de Wallis\n",
        "def wallis (x_):\n",
        "    pi=1\n",
        "    for n in range(1,x_+1):\n",
        "        pi = pi*((4*(n**2))/(4*(n**2)-1))\n",
        "    return 2*pi\n",
        "\n",
        "\n",
        "\n",
        "#aproximacion por metodo de Srinivasa Ramanujan\n",
        "import math\n",
        "def Srinivasa_Ramanujan(x_):\n",
        "    pi_inverse = 0.0\n",
        "\n",
        "    for i in range(0,x_+1):\n",
        "        num = math.factorial(4 * i) * (1103 + 26390 * i)\n",
        "        denom = (math.factorial(i) ** 4) * (396 ** (4 * i))\n",
        "        pi_inverse += num / denom\n",
        "\n",
        "    pi_approx = (2 * math.sqrt(2) / 9801) * pi_inverse\n",
        "    return 1 / pi_approx\n",
        "\n",
        "#aproximacion por metodo de monte carlo\n",
        "import random\n",
        "def monte_carlo(x_):\n",
        "    num= 0\n",
        "    for i in range(1,x_+1):\n",
        "        y_aleatorio = random.random()\n",
        "        x_aleatorio = random.random()\n",
        "        if y_aleatorio**2 + x_aleatorio**2 <=1 :\n",
        "            num += 1\n",
        "    prob = float(num / x_)\n",
        "    aprox_pi = 4*prob\n",
        "    return aprox_pi\n",
        "\n",
        "#funcion para calcular el error de cada metodo\n",
        "from decimal import Decimal\n",
        "pi = Decimal('3.1415926535897932384626433832795028841971693993751058209749445923078164062862089986280348253421170679')\n",
        "#print(f'{pi:.100f}')\n",
        "def error(x_, approx_):\n",
        "    metodo = approx_(x_)\n",
        "    e= abs(pi-Decimal(metodo))\n",
        "    return e\n",
        "\n",
        "#grafico del error para cada metodo propuesto\n",
        "met= 0\n",
        "metodo = ''\n",
        "print(\"\\n De los siguientes metodos para aproximar pi: \\n1. madhava_leibniz\\n2. wallis\\n3. Srinivasa_Ramanujan\\n4. monte_carlo\")\n",
        "f = input(' Ingrese el numero correspondiente al respectivo metodo : ', )\n",
        "if f == '1':\n",
        "    met= madhava_leibniz\n",
        "    metodo = ' Madhava Leibniz'\n",
        "elif f=='2':\n",
        "    met= wallis\n",
        "    metodo = ' Wallis'\n",
        "elif f=='3':\n",
        "    met= Srinivasa_Ramanujan\n",
        "    metodo = ' Srinivasa Ramanujan'\n",
        "elif f=='4':\n",
        "    met = monte_carlo\n",
        "    metodo = ' Monte Carlo'\n",
        "else:\n",
        "    print('Error al ingresar la opcion')\n",
        "\n",
        "import numpy\n",
        "from matplotlib import pyplot\n",
        "import matplotlib.pyplot as plt\n",
        "x = numpy.linspace(1,100001,11).astype(int)\n",
        "y = numpy.zeros_like(x, dtype=float)\n",
        "for i in range(len(x)):\n",
        "    k = x[i]\n",
        "    e = float(error(k,met))\n",
        "    y[i] = e\n",
        "\n",
        "pyplot.scatter(x,y,label=r'$\\Gamma(x)$')\n",
        "pyplot.yscale('log')\n",
        "pyplot.xscale('log')\n",
        "pyplot.grid()\n",
        "pyplot.xlabel('Cantidad de iteraciones')\n",
        "pyplot.ylabel('Error absoluto del metodo'+ metodo)\n",
        "plt.title('Error en la aproximación de π')\n",
        "pyplot.legend(loc='best')\n",
        "pyplot.show()\n",
        "\n",
        "\n"
      ],
      "metadata": {
        "colab": {
          "base_uri": "https://localhost:8080/",
          "height": 332
        },
        "id": "apLy_ZBWxyzE",
        "outputId": "c92647c2-c817-47bb-b80b-f5fc0372aed2"
      },
      "execution_count": 5,
      "outputs": [
        {
          "output_type": "error",
          "ename": "OverflowError",
          "evalue": "int too large to convert to float",
          "traceback": [
            "\u001b[0;31m---------------------------------------------------------------------------\u001b[0m",
            "\u001b[0;31mOverflowError\u001b[0m                             Traceback (most recent call last)",
            "\u001b[0;32m<ipython-input-5-93cea8c8c270>\u001b[0m in \u001b[0;36m<cell line: 0>\u001b[0;34m()\u001b[0m\n\u001b[1;32m     27\u001b[0m \u001b[0;34m\u001b[0m\u001b[0m\n\u001b[1;32m     28\u001b[0m \u001b[0;34m\u001b[0m\u001b[0m\n\u001b[0;32m---> 29\u001b[0;31m \u001b[0mSrinivasa_Ramanujan\u001b[0m\u001b[0;34m(\u001b[0m\u001b[0;36m99\u001b[0m\u001b[0;34m)\u001b[0m\u001b[0;34m\u001b[0m\u001b[0;34m\u001b[0m\u001b[0m\n\u001b[0m\u001b[1;32m     30\u001b[0m \u001b[0;34m\u001b[0m\u001b[0m\n\u001b[1;32m     31\u001b[0m \u001b[0;34m\u001b[0m\u001b[0m\n",
            "\u001b[0;32m<ipython-input-5-93cea8c8c270>\u001b[0m in \u001b[0;36mSrinivasa_Ramanujan\u001b[0;34m(x_)\u001b[0m\n\u001b[1;32m     21\u001b[0m \u001b[0;34m\u001b[0m\u001b[0m\n\u001b[1;32m     22\u001b[0m \u001b[0;34m\u001b[0m\u001b[0m\n\u001b[0;32m---> 23\u001b[0;31m         \u001b[0mpi\u001b[0m\u001b[0;34m=\u001b[0m \u001b[0mpi\u001b[0m \u001b[0;34m+\u001b[0m\u001b[0;34m(\u001b[0m\u001b[0;34m(\u001b[0m\u001b[0;34m(\u001b[0m\u001b[0mmath\u001b[0m\u001b[0;34m.\u001b[0m\u001b[0mfactorial\u001b[0m\u001b[0;34m(\u001b[0m\u001b[0;36m4\u001b[0m\u001b[0;34m*\u001b[0m\u001b[0mi\u001b[0m\u001b[0;34m)\u001b[0m\u001b[0;34m)\u001b[0m\u001b[0;34m*\u001b[0m\u001b[0;34m(\u001b[0m\u001b[0;34m(\u001b[0m\u001b[0;36m1103\u001b[0m\u001b[0;34m+\u001b[0m\u001b[0;36m26390\u001b[0m\u001b[0;34m*\u001b[0m\u001b[0mi\u001b[0m\u001b[0;34m)\u001b[0m\u001b[0;34m**\u001b[0m\u001b[0;36m4\u001b[0m\u001b[0;34m)\u001b[0m\u001b[0;34m)\u001b[0m\u001b[0;34m/\u001b[0m\u001b[0;34m(\u001b[0m\u001b[0mmath\u001b[0m\u001b[0;34m.\u001b[0m\u001b[0mfactorial\u001b[0m\u001b[0;34m(\u001b[0m\u001b[0mi\u001b[0m\u001b[0;34m)\u001b[0m\u001b[0;34m)\u001b[0m\u001b[0;34m)\u001b[0m\u001b[0;34m*\u001b[0m\u001b[0;34m(\u001b[0m\u001b[0;36m396\u001b[0m\u001b[0;34m**\u001b[0m\u001b[0;34m(\u001b[0m\u001b[0;36m4\u001b[0m\u001b[0;34m*\u001b[0m\u001b[0mi\u001b[0m\u001b[0;34m)\u001b[0m\u001b[0;34m)\u001b[0m\u001b[0;34m\u001b[0m\u001b[0;34m\u001b[0m\u001b[0m\n\u001b[0m\u001b[1;32m     24\u001b[0m     \u001b[0;32mreturn\u001b[0m \u001b[0;36m9801\u001b[0m\u001b[0;34m/\u001b[0m\u001b[0;36m2\u001b[0m\u001b[0;34m*\u001b[0m\u001b[0;34m(\u001b[0m\u001b[0;36m2\u001b[0m\u001b[0;34m**\u001b[0m\u001b[0;34m(\u001b[0m\u001b[0;36m0.5\u001b[0m\u001b[0;34m)\u001b[0m\u001b[0;34m)\u001b[0m\u001b[0;34m*\u001b[0m\u001b[0mpi\u001b[0m\u001b[0;34m\u001b[0m\u001b[0;34m\u001b[0m\u001b[0m\n\u001b[1;32m     25\u001b[0m \u001b[0;34m\u001b[0m\u001b[0m\n",
            "\u001b[0;31mOverflowError\u001b[0m: int too large to convert to float"
          ]
        }
      ]
    }
  ]
}